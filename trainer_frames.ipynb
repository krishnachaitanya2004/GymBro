{
 "cells": [
  {
   "cell_type": "code",
   "execution_count": 8,
   "id": "13f8823a-e011-48d3-9b23-fff369f882cf",
   "metadata": {},
   "outputs": [],
   "source": [
    "import cv2\n",
    "import os\n",
    "from model import get_angles_from_model\n",
    "import tensorflow_hub as hub\n",
    "import tensorflow as tf\n",
    "import tensorflow_hub as hub\n",
    "import matplotlib.pyplot as plt\n",
    "import numpy as np\n",
    "import get_angles   \n",
    "\n",
    "pose_model = hub.load(\"https://tfhub.dev/google/movenet/singlepose/thunder/4\")\n",
    "key_frames_angles = []"
   ]
  },
  {
   "cell_type": "code",
   "execution_count": 9,
   "id": "081e9db6-2433-43d4-b7b6-cbb90318e015",
   "metadata": {},
   "outputs": [],
   "source": [
    "excersise_name = \"Bicep_Curls\""
   ]
  },
  {
   "cell_type": "code",
   "execution_count": 10,
   "id": "40980660-f1b5-4a11-bf88-6e29c3fa256b",
   "metadata": {},
   "outputs": [],
   "source": [
    "if not os.path.exists(excersise_name):\n",
    "    os.makedirs(excersise_name)\n",
    "    print(f\"Directory '{excersise_name}' created.\")"
   ]
  },
  {
   "cell_type": "code",
   "execution_count": 11,
   "id": "125e2638-8c5b-4744-a985-e7fda988e614",
   "metadata": {},
   "outputs": [],
   "source": [
    "threshold_angle = 45"
   ]
  },
  {
   "cell_type": "code",
   "execution_count": 12,
   "id": "a00ea2f5-5c6b-4124-ad1d-7ce4611701a9",
   "metadata": {},
   "outputs": [],
   "source": [
    "def get_angles_from_model(model,image_path):\n",
    "   image = tf.io.read_file(image_path)\n",
    "   image = tf.image.decode_jpeg(image)\n",
    "   image = tf.expand_dims(image, axis=0)\n",
    "   image = tf.cast(tf.image.resize_with_pad(image, 256, 256), dtype=tf.int32)\n",
    "\n",
    "   movenet = model.signatures['serving_default']\n",
    "\n",
    "   outputs = movenet(image)\n",
    "\n",
    "   keypoints = outputs['output_0'].numpy().reshape(-1,3)\n",
    "\n",
    "   angles = get_angles.get_angles(keypoints)\n",
    "   return angles\n",
    "\n",
    "def process_frame(frame, count, angles):\n",
    "    frame_resized = cv2.resize(frame, (256, 256))\n",
    "    filename = f\"pose{count}.jpg\"\n",
    "    filename = os.path.join(excersise_name,filename)\n",
    "    cv2.imwrite(filename, frame_resized)\n",
    "    angles1 = get_angles_from_model(pose_model, filename)  # Pass the filename to the model\n",
    "    angle_diff = sum(abs(angles[key] - angles1[key]) for key in angles)\n",
    "    if angle_diff < threshold_angle:\n",
    "        os.remove(filename)\n",
    "    else:\n",
    "        angles = angles1\n",
    "        key_frames_angles.append(angles)\n",
    "    return angles"
   ]
  },
  {
   "cell_type": "code",
   "execution_count": 13,
   "id": "f57c8b56-b120-4328-8de7-a3712def4c9b",
   "metadata": {},
   "outputs": [],
   "source": [
    "def main():\n",
    "    video = cv2.VideoCapture(\"video.mp4\")\n",
    "    count = 0\n",
    "    ret, frame = video.read()\n",
    "    \n",
    "    if not ret:\n",
    "        print(\"Failed to read video\")\n",
    "        return\n",
    "    \n",
    "    initial_filename = \"initial_pose.jpg\"\n",
    "    cv2.imwrite(initial_filename, cv2.resize(frame, (256, 256)))\n",
    "    angles = get_angles_from_model(pose_model,initial_filename)\n",
    "    count += 1\n",
    "    \n",
    "    while True:\n",
    "        ret, frame = video.read()\n",
    "        if not ret:\n",
    "            break\n",
    "        \n",
    "        angles = process_frame(frame, count, angles)\n",
    "        \n",
    "        count += 1\n",
    "        if cv2.waitKey(1) & 0xFF == ord('q'):\n",
    "            break\n",
    "    \n",
    "    video.release()\n",
    "    cv2.destroyAllWindows()\n",
    "\n",
    "if __name__ == \"__main__\":\n",
    "    main()"
   ]
  },
  {
   "cell_type": "code",
   "execution_count": 14,
   "id": "dfdc4a5f-ef45-40a7-be81-de4e961b0552",
   "metadata": {},
   "outputs": [],
   "source": [
    "import csv\n",
    "csv_file = \"key_frame_angles.csv\"\n",
    "csv_file = os.path.join(excersise_name,csv_file)\n",
    "# Extract the headers from the first dictionary (keys of the dictionary)\n",
    "headers = key_frames_angles[0].keys()\n",
    "\n",
    "# Write data to CSV\n",
    "with open(csv_file, \"w\", newline='') as f:\n",
    "    writer = csv.DictWriter(f, fieldnames=headers)\n",
    "    \n",
    "    # Write the header\n",
    "    writer.writeheader()\n",
    "    \n",
    "    # Write the data\n",
    "    writer.writerows(key_frames_angles)"
   ]
  }
 ],
 "metadata": {
  "kernelspec": {
   "display_name": "Python (gymbro)",
   "language": "python",
   "name": "gymbro_env"
  },
  "language_info": {
   "codemirror_mode": {
    "name": "ipython",
    "version": 3
   },
   "file_extension": ".py",
   "mimetype": "text/x-python",
   "name": "python",
   "nbconvert_exporter": "python",
   "pygments_lexer": "ipython3",
   "version": "3.12.4"
  }
 },
 "nbformat": 4,
 "nbformat_minor": 5
}

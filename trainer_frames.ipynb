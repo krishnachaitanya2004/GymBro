{
 "cells": [
  {
   "cell_type": "markdown",
   "id": "7c96b63d",
   "metadata": {},
   "source": [
    "## Trainer Code\n",
    "\n",
    "This notebook takes trainer video, which will be ideal for exercise and processing too. \n",
    "Trainer video will directly start the exercise, so initial position will be 0th frame\n",
    "Trainer video contains side view of trainer and isn't tilted\n",
    "Trainer will do one round of exercise only\n",
    "The points and angles obtained will be stored in csv and used to compare with user frames for counting no of correct reps. "
   ]
  },
  {
   "cell_type": "markdown",
   "id": "cbc7ea98",
   "metadata": {},
   "source": [
    "## Import Libraries"
   ]
  },
  {
   "cell_type": "code",
   "execution_count": 1,
   "id": "13f8823a-e011-48d3-9b23-fff369f882cf",
   "metadata": {},
   "outputs": [
    {
     "name": "stderr",
     "output_type": "stream",
     "text": [
      "2024-08-11 00:47:36.443471: E external/local_xla/xla/stream_executor/cuda/cuda_fft.cc:485] Unable to register cuFFT factory: Attempting to register factory for plugin cuFFT when one has already been registered\n",
      "2024-08-11 00:47:36.460392: E external/local_xla/xla/stream_executor/cuda/cuda_dnn.cc:8454] Unable to register cuDNN factory: Attempting to register factory for plugin cuDNN when one has already been registered\n",
      "2024-08-11 00:47:36.465309: E external/local_xla/xla/stream_executor/cuda/cuda_blas.cc:1452] Unable to register cuBLAS factory: Attempting to register factory for plugin cuBLAS when one has already been registered\n",
      "2024-08-11 00:47:36.476719: I tensorflow/core/platform/cpu_feature_guard.cc:210] This TensorFlow binary is optimized to use available CPU instructions in performance-critical operations.\n",
      "To enable the following instructions: AVX2 FMA, in other operations, rebuild TensorFlow with the appropriate compiler flags.\n",
      "2024-08-11 00:47:37.414347: W tensorflow/compiler/tf2tensorrt/utils/py_utils.cc:38] TF-TRT Warning: Could not find TensorRT\n",
      "2024-08-11 00:47:39.152633: E external/local_xla/xla/stream_executor/cuda/cuda_driver.cc:266] failed call to cuInit: CUDA_ERROR_UNKNOWN: unknown error\n",
      "2024-08-11 00:47:39.152653: I external/local_xla/xla/stream_executor/cuda/cuda_diagnostics.cc:135] retrieving CUDA diagnostic information for host: chaitanya-3510\n",
      "2024-08-11 00:47:39.152658: I external/local_xla/xla/stream_executor/cuda/cuda_diagnostics.cc:142] hostname: chaitanya-3510\n",
      "2024-08-11 00:47:39.152721: I external/local_xla/xla/stream_executor/cuda/cuda_diagnostics.cc:166] libcuda reported version is: 535.183.1\n",
      "2024-08-11 00:47:39.152738: I external/local_xla/xla/stream_executor/cuda/cuda_diagnostics.cc:170] kernel reported version is: 535.183.1\n",
      "2024-08-11 00:47:39.152742: I external/local_xla/xla/stream_executor/cuda/cuda_diagnostics.cc:249] kernel version seems to match DSO: 535.183.1\n"
     ]
    }
   ],
   "source": [
    "import cv2\n",
    "import os\n",
    "import tensorflow_hub as hub\n",
    "import tensorflow as tf\n",
    "import matplotlib.pyplot as plt\n",
    "import numpy as np\n",
    "\n",
    "pose_model = hub.load(\"https://tfhub.dev/google/movenet/singlepose/lightning/4\")\n",
    "movenet = pose_model.signatures['serving_default']\n",
    "key_frames_angles = []\n",
    "key_frames_points = []"
   ]
  },
  {
   "cell_type": "markdown",
   "id": "165eba47",
   "metadata": {},
   "source": [
    "#### Constants"
   ]
  },
  {
   "cell_type": "code",
   "execution_count": 2,
   "id": "ba53c12a",
   "metadata": {},
   "outputs": [],
   "source": [
    "threshold_angle = 45"
   ]
  },
  {
   "cell_type": "markdown",
   "id": "9093efdc",
   "metadata": {},
   "source": [
    "#### Set exercise name"
   ]
  },
  {
   "cell_type": "code",
   "execution_count": 3,
   "id": "081e9db6-2433-43d4-b7b6-cbb90318e015",
   "metadata": {},
   "outputs": [
    {
     "name": "stdout",
     "output_type": "stream",
     "text": [
      "Directory 'PushUp' created.\n"
     ]
    }
   ],
   "source": [
    "excersise_name = \"PushUp\"\n",
    "if not os.path.exists(excersise_name):\n",
    "    os.makedirs(excersise_name)\n",
    "    print(f\"Directory '{excersise_name}' created.\")"
   ]
  },
  {
   "cell_type": "markdown",
   "id": "67f45de1",
   "metadata": {},
   "source": [
    "### Get angles and key points"
   ]
  },
  {
   "cell_type": "code",
   "execution_count": 4,
   "id": "e2137cb6",
   "metadata": {},
   "outputs": [],
   "source": [
    "### Returns key points by taking model output on a image\n",
    "def get_keypoints(outputs):\n",
    "    points = outputs['output_0'].numpy()[0, 0, :, :]\n",
    "    nose = points[0]\n",
    "    left_shoulder = points[5]\n",
    "    right_shoulder = points[6]\n",
    "    left_elbow = points[7]\n",
    "    right_elbow = points[8]\n",
    "    left_wrist = points[9]\n",
    "    right_wrist = points[10]\n",
    "    left_hip = points[11]\n",
    "    right_hip = points[12]\n",
    "    left_knee = points[13]\n",
    "    right_knee = points[14]\n",
    "    left_ankle = points[15]\n",
    "    right_ankle = points[16]\n",
    "    neck = (left_shoulder + right_shoulder) / 2\n",
    "\n",
    "    body_parts = {\n",
    "        'nose': nose,\n",
    "        'left_shoulder': left_shoulder,\n",
    "        'right_shoulder': right_shoulder,\n",
    "        'left_elbow': left_elbow,\n",
    "        'right_elbow': right_elbow,\n",
    "        'left_wrist': left_wrist,\n",
    "        'right_wrist': right_wrist,\n",
    "        'left_hip': left_hip,\n",
    "        'right_hip': right_hip,\n",
    "        'left_knee': left_knee,\n",
    "        'right_knee': right_knee,\n",
    "        'left_ankle': left_ankle,\n",
    "        'right_ankle': right_ankle,\n",
    "        'neck': neck\n",
    "    }\n",
    "    return body_parts"
   ]
  },
  {
   "cell_type": "code",
   "execution_count": 5,
   "id": "0c05a29d",
   "metadata": {},
   "outputs": [],
   "source": [
    "def cosine_angle(v1, v2):\n",
    "    numer = np.dot(v1, v2)\n",
    "    denom = np.linalg.norm(v1) * np.linalg.norm(v2)\n",
    "    if denom == 0:\n",
    "        if np.array_equal(v1, v2):\n",
    "            return 0.0\n",
    "        else:\n",
    "            return 180.0\n",
    "    degrees = np.degrees(np.arccos(numer / denom))\n",
    "    return degrees\n",
    "\n",
    "def calculate_angle(point1,point2,point3):\n",
    "    v1 = point1[:2] - point2[:2]\n",
    "    v2 = point3[:2] - point2[:2]\n",
    "    return cosine_angle(v1, v2)"
   ]
  },
  {
   "cell_type": "code",
   "execution_count": 6,
   "id": "7dff4a9d",
   "metadata": {},
   "outputs": [],
   "source": [
    "## Get angles from key points. \n",
    "def get_angles(keypoints):\n",
    "    n_n_rs = calculate_angle(keypoints['nose'], keypoints['neck'], keypoints['right_elbow'])\n",
    "    n_n_ls = calculate_angle(keypoints['nose'], keypoints['neck'], keypoints['left_elbow'])\n",
    "    n_rs_re = calculate_angle(keypoints['neck'], keypoints['right_shoulder'], keypoints['right_elbow'])\n",
    "    n_ls_le = calculate_angle(keypoints['neck'], keypoints['left_shoulder'], keypoints['left_elbow'])\n",
    "    rs_re_rw = calculate_angle(keypoints['right_shoulder'], keypoints['right_elbow'], keypoints['right_wrist'])\n",
    "    ls_le_lw = calculate_angle(keypoints['left_shoulder'], keypoints['left_elbow'], keypoints['left_wrist'])\n",
    "    n_rh_rk = calculate_angle(keypoints['neck'], keypoints['right_hip'], keypoints['right_knee'])\n",
    "    n_lh_lk = calculate_angle(keypoints['neck'], keypoints['left_hip'], keypoints['left_knee'])\n",
    "    rh_rk_ra = calculate_angle(keypoints['right_hip'], keypoints['right_knee'], keypoints['right_ankle'])\n",
    "    lh_lk_la = calculate_angle(keypoints['left_hip'], keypoints['left_knee'], keypoints['left_ankle'])\n",
    "\n",
    "    angles = {\n",
    "        \"Nose-Neck-Right Shoulder\": n_n_rs,\n",
    "        \"Nose-Neck-Left Shoulder\": n_n_ls,\n",
    "        \"Neck-Right Shoulder-Right Elbow\": n_rs_re,\n",
    "        \"Neck-Left Shoulder-Left Elbow\": n_ls_le,\n",
    "        \"Right Shoulder-Right Elbow-Right Wrist\": rs_re_rw,\n",
    "        \"Left Shoulder-Left Elbow-Left Wrist\": ls_le_lw,\n",
    "        \"Neck-Right Hip-Right Knee\": n_rh_rk,\n",
    "        \"Neck-Left Hip-Left Knee\": n_lh_lk,\n",
    "        \"Right Hip-Right Knee-Right Ankle\": rh_rk_ra,\n",
    "        \"Left Hip-Left Knee-Left Ankle\": lh_lk_la\n",
    "    }\n",
    "\n",
    "    return angles"
   ]
  },
  {
   "cell_type": "code",
   "execution_count": 7,
   "id": "a00ea2f5-5c6b-4124-ad1d-7ce4611701a9",
   "metadata": {},
   "outputs": [],
   "source": [
    "# Takes input as image path and return all angles and points\n",
    "def get_data_from_model(image):\n",
    "\n",
    "    image_tensor = tf.image.resize_with_pad(image, 192, 192)\n",
    "    image_tensor = tf.cast(image_tensor, dtype=tf.int32)\n",
    "    image_tensor = tf.expand_dims(image_tensor, axis=0)\n",
    "\n",
    "    # Run the model.\n",
    "    outputs = movenet(image_tensor)\n",
    "    keypoints = get_keypoints(outputs)\n",
    "    angles = get_angles(keypoints)\n",
    "    return keypoints, angles\n",
    "\n",
    "# Gets angles of current frame and compares wrt prev frame and saves if there is significant difference\n",
    "def process_frame(frame, count, angles):\n",
    "    \n",
    "    image = cv2.cvtColor(frame, cv2.COLOR_BGR2RGB)\n",
    "    image = tf.convert_to_tensor(image,dtype=tf.int32)\n",
    "    keypoints, angles1 = get_data_from_model(image)  # Pass the image to the model\n",
    "    angle_diff = sum(abs(angles[key] - angles1[key]) for key in angles)\n",
    "    if angle_diff > threshold_angle:\n",
    "        filename = f\"pose{count}.jpg\"\n",
    "        filename = os.path.join(excersise_name,filename)\n",
    "        cv2.imwrite(filename, frame)\n",
    "        angles = angles1\n",
    "        key_frames_angles.append(angles)\n",
    "        key_frames_points.append(keypoints)\n",
    "    return angles"
   ]
  },
  {
   "cell_type": "code",
   "execution_count": 9,
   "id": "f57c8b56-b120-4328-8de7-a3712def4c9b",
   "metadata": {},
   "outputs": [],
   "source": [
    "def main():\n",
    "    video = cv2.VideoCapture(\"data/pushup.gif\")\n",
    "    count = 0\n",
    "    ret, frame = video.read()\n",
    "    \n",
    "    if not ret:\n",
    "        print(\"Failed to read video\")\n",
    "        return\n",
    "    \n",
    "    image = cv2.cvtColor(frame, cv2.COLOR_BGR2RGB)\n",
    "    image = tf.convert_to_tensor(image,dtype=tf.int32)\n",
    "    \n",
    "    _, angles = get_data_from_model(image)\n",
    "    count += 1\n",
    "    \n",
    "    while True:\n",
    "        ret, frame = video.read()\n",
    "        if not ret:\n",
    "            break\n",
    "        angles = process_frame(frame, count, angles)\n",
    "        \n",
    "        count += 1\n",
    "        if cv2.waitKey(1) & 0xFF == ord('q'):\n",
    "            break\n",
    "    \n",
    "    video.release()\n",
    "    cv2.destroyAllWindows()\n",
    "\n",
    "if __name__ == \"__main__\":\n",
    "    main()"
   ]
  },
  {
   "cell_type": "code",
   "execution_count": 10,
   "id": "dfdc4a5f-ef45-40a7-be81-de4e961b0552",
   "metadata": {},
   "outputs": [],
   "source": [
    "import csv\n",
    "csv_file1 = \"key_frame_angles.csv\"\n",
    "csv_file2 = \"key_frame_points.csv\"\n",
    "csv_file1 = os.path.join(excersise_name,csv_file1)\n",
    "csv_file2 = os.path.join(excersise_name,csv_file2)\n",
    "# Extract the headers from the first dictionary (keys of the dictionary)\n",
    "headers1 = key_frames_angles[0].keys()\n",
    "headers2 = key_frames_points[0].keys()\n",
    "\n",
    "# Write data to CSV\n",
    "with open(csv_file1, \"w\", newline='') as f:\n",
    "    writer = csv.DictWriter(f, fieldnames=headers1)\n",
    "    writer.writeheader()\n",
    "    writer.writerows(key_frames_angles)\n",
    "# Write data to CSV\n",
    "with open(csv_file2, \"w\", newline='') as f:\n",
    "    writer = csv.DictWriter(f, fieldnames=headers2)\n",
    "    writer.writeheader()\n",
    "    writer.writerows(key_frames_points)"
   ]
  }
 ],
 "metadata": {
  "kernelspec": {
   "display_name": "Python 3 (ipykernel)",
   "language": "python",
   "name": "python3"
  },
  "language_info": {
   "name": "python",
   "version": "3.10.12"
  }
 },
 "nbformat": 4,
 "nbformat_minor": 5
}
